{
 "cells": [
  {
   "cell_type": "code",
   "execution_count": 1,
   "id": "79600384",
   "metadata": {},
   "outputs": [
    {
     "name": "stdout",
     "output_type": "stream",
     "text": [
      "All ok\n"
     ]
    }
   ],
   "source": [
    "print(\"All ok\")"
   ]
  },
  {
   "cell_type": "code",
   "execution_count": 2,
   "id": "e6820a3f",
   "metadata": {},
   "outputs": [
    {
     "data": {
      "text/plain": [
       "<module 'logging' from 'c:\\\\Users\\\\Sachi\\\\OneDrive\\\\Desktop\\\\LLMOpsCourse\\\\Projects\\\\document_portal\\\\env\\\\lib\\\\logging\\\\__init__.py'>"
      ]
     },
     "execution_count": 2,
     "metadata": {},
     "output_type": "execute_result"
    }
   ],
   "source": [
    "import os \n",
    "import logging\n",
    "from datetime import datetime\n",
    "import importlib\n",
    "importlib.reload(logging)"
   ]
  },
  {
   "cell_type": "code",
   "execution_count": 3,
   "id": "f74b654d",
   "metadata": {},
   "outputs": [],
   "source": [
    "logs_dir = os.path.join(os.getcwd(),\"logs\")"
   ]
  },
  {
   "cell_type": "code",
   "execution_count": 4,
   "id": "d3cc8f34",
   "metadata": {},
   "outputs": [],
   "source": [
    "os.makedirs(logs_dir,exist_ok=True) #crestes directory #exist ok so that error does not come"
   ]
  },
  {
   "cell_type": "code",
   "execution_count": 5,
   "id": "98f2e432",
   "metadata": {},
   "outputs": [],
   "source": [
    "LOG_FILE = f\"{datetime.now().strftime('%m_%d_%Y_%H_%M_%S')}.log\""
   ]
  },
  {
   "cell_type": "code",
   "execution_count": 6,
   "id": "d6a845ad",
   "metadata": {},
   "outputs": [],
   "source": [
    "LOG_FILE_PATH = os.path.join(logs_dir,LOG_FILE)"
   ]
  },
  {
   "cell_type": "code",
   "execution_count": 7,
   "id": "ea8aad72",
   "metadata": {},
   "outputs": [],
   "source": [
    "logging.basicConfig(\n",
    "    filename = LOG_FILE_PATH,\n",
    "    format = \"[ %(asctime)s ] %(levelname)s %(name)s (line:%(lineno)d) - %(message)s\",\n",
    "    level = logging.INFO,\n",
    ")"
   ]
  },
  {
   "cell_type": "code",
   "execution_count": 8,
   "id": "aed909a7",
   "metadata": {},
   "outputs": [],
   "source": [
    "logger = logging.getLogger(\"DocumentPortal\")"
   ]
  },
  {
   "cell_type": "code",
   "execution_count": 9,
   "id": "f55d56a4",
   "metadata": {},
   "outputs": [],
   "source": [
    "logger.info(\"This is an info message\")"
   ]
  },
  {
   "cell_type": "code",
   "execution_count": 10,
   "id": "1b7040ef",
   "metadata": {},
   "outputs": [
    {
     "name": "stdout",
     "output_type": "stream",
     "text": [
      "Log file will be at: c:\\Users\\Sachi\\OneDrive\\Desktop\\LLMOpsCourse\\Projects\\document_portal\\notebook\\logs\\08_01_2025_01_36_23.log\n"
     ]
    }
   ],
   "source": [
    "print(\"Log file will be at:\", LOG_FILE_PATH)"
   ]
  }
 ],
 "metadata": {
  "kernelspec": {
   "display_name": "Python 3",
   "language": "python",
   "name": "python3"
  },
  "language_info": {
   "codemirror_mode": {
    "name": "ipython",
    "version": 3
   },
   "file_extension": ".py",
   "mimetype": "text/x-python",
   "name": "python",
   "nbconvert_exporter": "python",
   "pygments_lexer": "ipython3",
   "version": "3.10.0"
  }
 },
 "nbformat": 4,
 "nbformat_minor": 5
}
